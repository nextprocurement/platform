{
 "cells": [
  {
   "cell_type": "code",
   "execution_count": 70,
   "metadata": {},
   "outputs": [
    {
     "name": "stdout",
     "output_type": "stream",
     "text": [
      "<Response [200]>\n"
     ]
    }
   ],
   "source": [
    "import requests\n",
    "\n",
    "filepath = \"D:/Documentos/TBFY_data/TBFY_DATA_DUMP_JSON/3_JSON_Enriched/2019-01-01/ocds-0c46vo-0049-153878-tender-release.json\"\n",
    "filename = \"ocds-0c46vo-0049-153878-tender-release.json\"\n",
    "\n",
    "param = 'input_07-06-2022'\n",
    "\n",
    "files = {\n",
    "    'upload_files': (filename, open(filepath, 'rb')),\n",
    "    'upload_files': (filename, open(filepath, 'rb')),\n",
    "}\n",
    "\n",
    "response = requests.post('http://localhost:5050/pipeline/{item_id}?destination=%2F' + param, files=files)\n",
    "\n",
    "print(response)"
   ]
  },
  {
   "cell_type": "code",
   "execution_count": 69,
   "metadata": {},
   "outputs": [
    {
     "name": "stdout",
     "output_type": "stream",
     "text": [
      "[('upload_files', ('ocds-0c46vo-0049-153878-tender-release.json', <_io.BufferedReader name='D:/Documentos/TBFY_data/TBFY_DATA_DUMP_JSON/3_JSON_Enriched/2019-01-01/ocds-0c46vo-0049-153878-tender-release.json'>)), ('upload_files', ('ocds-0c46vo-0049-153878-tender-release.json', <_io.BufferedReader name='D:/Documentos/TBFY_data/TBFY_DATA_DUMP_JSON/3_JSON_Enriched/2019-01-01/ocds-0c46vo-0049-153878-tender-release.json'>))]\n"
     ]
    }
   ],
   "source": [
    "files = [\n",
    "    ('upload_files', (filename, open(filepath, 'rb'))),\n",
    "    ('upload_files', (filename, open(filepath, 'rb')))\n",
    "]\n",
    "\n",
    "\n",
    "print(files)"
   ]
  },
  {
   "cell_type": "code",
   "execution_count": 77,
   "metadata": {},
   "outputs": [
    {
     "name": "stdout",
     "output_type": "stream",
     "text": [
      "[('upload_files', ('ocds-0c46vo-0009-DN379620-1-tender-release.json', <_io.BufferedReader name='D:/Documentos/TBFY_data/TBFY_DATA_DUMP_JSON/3_JSON_Enriched/2019-01-01\\\\ocds-0c46vo-0009-DN379620-1-tender-release.json'>)), ('upload_files', ('ocds-0c46vo-0012-329224-tender-release.json', <_io.BufferedReader name='D:/Documentos/TBFY_data/TBFY_DATA_DUMP_JSON/3_JSON_Enriched/2019-01-01\\\\ocds-0c46vo-0012-329224-tender-release.json'>)), ('upload_files', ('ocds-0c46vo-0012-329240-tender-release.json', <_io.BufferedReader name='D:/Documentos/TBFY_data/TBFY_DATA_DUMP_JSON/3_JSON_Enriched/2019-01-01\\\\ocds-0c46vo-0012-329240-tender-release.json'>)), ('upload_files', ('ocds-0c46vo-0020-gosharedservices_229-tender-release.json', <_io.BufferedReader name='D:/Documentos/TBFY_data/TBFY_DATA_DUMP_JSON/3_JSON_Enriched/2019-01-01\\\\ocds-0c46vo-0020-gosharedservices_229-tender-release.json'>)), ('upload_files', ('ocds-0c46vo-0049-153876-tender-release.json', <_io.BufferedReader name='D:/Documentos/TBFY_data/TBFY_DATA_DUMP_JSON/3_JSON_Enriched/2019-01-01\\\\ocds-0c46vo-0049-153876-tender-release.json'>)), ('upload_files', ('ocds-0c46vo-0049-153878-tender-release.json', <_io.BufferedReader name='D:/Documentos/TBFY_data/TBFY_DATA_DUMP_JSON/3_JSON_Enriched/2019-01-01\\\\ocds-0c46vo-0049-153878-tender-release.json'>)), ('upload_files', ('ocds-0c46vo-0049-2691477-tender-release.json', <_io.BufferedReader name='D:/Documentos/TBFY_data/TBFY_DATA_DUMP_JSON/3_JSON_Enriched/2019-01-01\\\\ocds-0c46vo-0049-2691477-tender-release.json'>)), ('upload_files', ('ocds-0c46vo-0049-2710237-tender-release.json', <_io.BufferedReader name='D:/Documentos/TBFY_data/TBFY_DATA_DUMP_JSON/3_JSON_Enriched/2019-01-01\\\\ocds-0c46vo-0049-2710237-tender-release.json'>)), ('upload_files', ('ocds-0c46vo-0049-2710240-tender-release.json', <_io.BufferedReader name='D:/Documentos/TBFY_data/TBFY_DATA_DUMP_JSON/3_JSON_Enriched/2019-01-01\\\\ocds-0c46vo-0049-2710240-tender-release.json'>)), ('upload_files', ('ocds-0c46vo-0049-2710243-tender-release.json', <_io.BufferedReader name='D:/Documentos/TBFY_data/TBFY_DATA_DUMP_JSON/3_JSON_Enriched/2019-01-01\\\\ocds-0c46vo-0049-2710243-tender-release.json'>)), ('upload_files', ('ocds-0c46vo-0049-2710244-tender-release.json', <_io.BufferedReader name='D:/Documentos/TBFY_data/TBFY_DATA_DUMP_JSON/3_JSON_Enriched/2019-01-01\\\\ocds-0c46vo-0049-2710244-tender-release.json'>)), ('upload_files', ('ocds-0c46vo-0049-2710545-tender-release.json', <_io.BufferedReader name='D:/Documentos/TBFY_data/TBFY_DATA_DUMP_JSON/3_JSON_Enriched/2019-01-01\\\\ocds-0c46vo-0049-2710545-tender-release.json'>)), ('upload_files', ('ocds-0c46vo-0049-2710546-tender-release.json', <_io.BufferedReader name='D:/Documentos/TBFY_data/TBFY_DATA_DUMP_JSON/3_JSON_Enriched/2019-01-01\\\\ocds-0c46vo-0049-2710546-tender-release.json'>)), ('upload_files', ('ocds-0c46vo-0049-2710547-tender-release.json', <_io.BufferedReader name='D:/Documentos/TBFY_data/TBFY_DATA_DUMP_JSON/3_JSON_Enriched/2019-01-01\\\\ocds-0c46vo-0049-2710547-tender-release.json'>)), ('upload_files', ('ocds-0c46vo-0049-2710548-tender-release.json', <_io.BufferedReader name='D:/Documentos/TBFY_data/TBFY_DATA_DUMP_JSON/3_JSON_Enriched/2019-01-01\\\\ocds-0c46vo-0049-2710548-tender-release.json'>)), ('upload_files', ('ocds-0c46vo-0105-532232-tender-release.json', <_io.BufferedReader name='D:/Documentos/TBFY_data/TBFY_DATA_DUMP_JSON/3_JSON_Enriched/2019-01-01\\\\ocds-0c46vo-0105-532232-tender-release.json'>)), ('upload_files', ('ocds-0c46vo-0117-139762-tender-release.json', <_io.BufferedReader name='D:/Documentos/TBFY_data/TBFY_DATA_DUMP_JSON/3_JSON_Enriched/2019-01-01\\\\ocds-0c46vo-0117-139762-tender-release.json'>)), ('upload_files', ('ocds-0c46vo-0292-kLCrKZ4RdI2pkewy7KnAGg-tender-release.json', <_io.BufferedReader name='D:/Documentos/TBFY_data/TBFY_DATA_DUMP_JSON/3_JSON_Enriched/2019-01-01\\\\ocds-0c46vo-0292-kLCrKZ4RdI2pkewy7KnAGg-tender-release.json'>)), ('upload_files', ('ocds-0c46vo-0292-MbCbUmjjZqeh1NZk5gZGMA-tender-release.json', <_io.BufferedReader name='D:/Documentos/TBFY_data/TBFY_DATA_DUMP_JSON/3_JSON_Enriched/2019-01-01\\\\ocds-0c46vo-0292-MbCbUmjjZqeh1NZk5gZGMA-tender-release.json'>)), ('upload_files', ('ocds-0c46vo-0292-tzRSJOM4Mbqz09-mL9omsw-tender-release.json', <_io.BufferedReader name='D:/Documentos/TBFY_data/TBFY_DATA_DUMP_JSON/3_JSON_Enriched/2019-01-01\\\\ocds-0c46vo-0292-tzRSJOM4Mbqz09-mL9omsw-tender-release.json'>)), ('upload_files', ('ocds-0c46vo-0292-uZ6Bna-wdZXvmRtge27exQ-tender-release.json', <_io.BufferedReader name='D:/Documentos/TBFY_data/TBFY_DATA_DUMP_JSON/3_JSON_Enriched/2019-01-01\\\\ocds-0c46vo-0292-uZ6Bna-wdZXvmRtge27exQ-tender-release.json'>))]\n"
     ]
    }
   ],
   "source": [
    "import glob\n",
    "import os\n",
    "\n",
    "filepath = \"D:/Documentos/TBFY_data/TBFY_DATA_DUMP_JSON/3_JSON_Enriched/2019-01-01/*.json\"\n",
    "\n",
    "files = []\n",
    "for file in glob.glob(filepath):\n",
    "    filename = os.path.basename(file)\n",
    "    files.append(('upload_files', (filename, open(file, 'rb'))))\n",
    "\n",
    "print(files)\n"
   ]
  },
  {
   "cell_type": "code",
   "execution_count": 84,
   "metadata": {},
   "outputs": [
    {
     "name": "stdout",
     "output_type": "stream",
     "text": [
      "<Response [200]>\n"
     ]
    }
   ],
   "source": [
    "import requests\n",
    "import glob\n",
    "import os\n",
    "\n",
    "filepath = \"D:/Documentos/TBFY_data/TBFY_DATA_DUMP_JSON/3_JSON_Enriched/2019-01-01/*.json\"\n",
    "\n",
    "param = 'input_07-06-2022'\n",
    "\n",
    "files = []\n",
    "for file in glob.glob(filepath):\n",
    "    filename = os.path.basename(file)\n",
    "    files.append(('upload_files', (filename, open(file, 'rb'))))\n",
    "    \n",
    "\n",
    "response = requests.post('http://localhost:5050/pipeline/{item_id}?destination=%2F' + param, files=files)\n",
    "\n",
    "print(response)"
   ]
  },
  {
   "cell_type": "code",
   "execution_count": 94,
   "metadata": {},
   "outputs": [
    {
     "name": "stdout",
     "output_type": "stream",
     "text": [
      "07-06-2022-14:13:51\n",
      "21\n"
     ]
    }
   ],
   "source": [
    "from datetime import datetime\n",
    "\n",
    "print(datetime.today().strftime(\"%d-%m-%Y-%H:%M:%S\"))\n",
    "\n",
    "print(len(files))"
   ]
  }
 ],
 "metadata": {
  "interpreter": {
   "hash": "ecc01959a3fa6e370fa1785e6cca03f3405a3d40925e8097c2a14ac91635be9e"
  },
  "kernelspec": {
   "display_name": "Python 3.9.5 64-bit",
   "language": "python",
   "name": "python3"
  },
  "language_info": {
   "codemirror_mode": {
    "name": "ipython",
    "version": 3
   },
   "file_extension": ".py",
   "mimetype": "text/x-python",
   "name": "python",
   "nbconvert_exporter": "python",
   "pygments_lexer": "ipython3",
   "version": "3.9.5"
  },
  "orig_nbformat": 4
 },
 "nbformat": 4,
 "nbformat_minor": 2
}
