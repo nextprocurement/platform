{
 "cells": [
  {
   "cell_type": "code",
   "execution_count": 1,
   "metadata": {},
   "outputs": [
    {
     "name": "stderr",
     "output_type": "stream",
     "text": [
      "INFO | 2022-03-07 11:50:46,198 | 256 mapping rules retrieved.\n",
      "INFO | 2022-03-07 11:50:46,256 | Mapping partition with 1 groups generated.\n",
      "INFO | 2022-03-07 11:50:46,256 | Maximum number of rules within mapping group: 256.\n",
      "INFO | 2022-03-07 11:50:46,263 | Mappings processed in 0.956 seconds.\n",
      "INFO | 2022-03-07 11:50:48,272 | Number of triples generated in total: 46.\n",
      "C:\\Users\\Pedro\\AppData\\Local\\Programs\\Python\\Python39\\lib\\site-packages\\rdflib\\plugins\\serializers\\nt.py:36: UserWarning: NTSerializer always uses UTF-8 encoding. Given encoding was: None\n",
      "  warnings.warn(\n"
     ]
    },
    {
     "data": {
      "text/plain": [
       "<Graph identifier=Na3034db1ae6445dfb4900e593762ff70 (<class 'rdflib.graph.Graph'>)>"
      ]
     },
     "execution_count": 1,
     "metadata": {},
     "output_type": "execute_result"
    }
   ],
   "source": [
    "import morph_kgc\n",
    "\n",
    "# configuration file\n",
    "config = \"\"\"\n",
    "         [DataSourceXML]\n",
    "         file_path=/Users/Pedro/Desktop/TBFY_data/TBFY_DATA_DUMP_JSON/4_XML_Enriched/2019-01-01/ocds-0c46vo-0049-153876-tender-release.xml\n",
    "         mappings=/Users/Pedro/Desktop/knowledge-graph-master/rml-mappings_morph/openopps_mapping.ttl\n",
    "         \"\"\"\n",
    "\n",
    "# generate the triples and load them to an RDFlib graph\n",
    "graph = morph_kgc.materialize(config)\n",
    "# work with the graph\n",
    "graph.serialize(destination='/Users/Pedro/Desktop/ocds-0c46vo-0049-153876-tender-release.nt', format='nt')"
   ]
  },
  {
   "cell_type": "code",
   "execution_count": 16,
   "metadata": {},
   "outputs": [
    {
     "name": "stderr",
     "output_type": "stream",
     "text": [
      "INFO | 2022-03-07 11:10:47,920 | 256 mapping rules retrieved.\n",
      "INFO | 2022-03-07 11:10:47,972 | Mapping partition with 1 groups generated.\n",
      "INFO | 2022-03-07 11:10:47,973 | Maximum number of rules within mapping group: 256.\n",
      "INFO | 2022-03-07 11:10:47,980 | Mappings processed in 0.793 seconds.\n",
      "INFO | 2022-03-07 11:10:50,059 | Number of triples generated in total: 46.\n"
     ]
    },
    {
     "data": {
      "text/plain": [
       "<Graph identifier=Ne29a837cb42146daadbff2d4f15f65b4 (<class 'rdflib.graph.Graph'>)>"
      ]
     },
     "execution_count": 16,
     "metadata": {},
     "output_type": "execute_result"
    }
   ],
   "source": [
    "import morph_kgc\n",
    "\n",
    "# configuration file\n",
    "config = \"\"\"\n",
    "         [DataSourceXML]\n",
    "         file_path=/Users/Pedro/Desktop/TBFY_data/TBFY_DATA_DUMP_JSON/4_XML_Enriched/2019-01-02/ocds-0c46vo-0008-370-tender-release.xml\n",
    "         mappings=/Users/Pedro/Desktop/knowledge-graph-master/rml-mappings_morph/openopps_mapping.ttl\n",
    "         \"\"\"\n",
    "\n",
    "# generate the triples and load them to an RDFlib graph\n",
    "graph = morph_kgc.materialize(config)\n",
    "# work with the graph\n",
    "graph.serialize(destination='/Users/Pedro/Desktop/ocds-0c46vo-0008-370-tender-release.nt', format='nt')"
   ]
  },
  {
   "cell_type": "markdown",
   "metadata": {},
   "source": [
    "Aunque parecia solucionado, ha aparecido otro error a la hora de llamar a la funcion Materialize"
   ]
  },
  {
   "cell_type": "code",
   "execution_count": 2,
   "metadata": {},
   "outputs": [
    {
     "name": "stderr",
     "output_type": "stream",
     "text": [
      "INFO | 2022-03-07 12:58:45,274 | 256 mapping rules retrieved.\n",
      "INFO | 2022-03-07 12:58:45,334 | Mapping partition with 1 groups generated.\n",
      "INFO | 2022-03-07 12:58:45,335 | Maximum number of rules within mapping group: 256.\n",
      "INFO | 2022-03-07 12:58:45,342 | Mappings processed in 0.839 seconds.\n",
      "INFO | 2022-03-07 12:58:47,462 | Number of triples generated in total: 61.\n"
     ]
    }
   ],
   "source": [
    "import morph_kgc\n",
    "\n",
    "# configuration file\n",
    "config =\"\"\"\n",
    "        [DataSourceXML]\n",
    "        file_path=/Users/Pedro/Desktop/TBFY_data/TBFY_DATA_DUMP_JSON/4_XML_Enriched/2019-01-01/ocds-0c46vo-0009-DN379620-1-tender-release.xml\n",
    "        mappings=/Users/Pedro/Desktop/knowledge-graph-master/rml-mappings_morph/openopps_mapping.ttl\n",
    "        \"\"\"\n",
    "\n",
    "# generate the triples and load them to an RDFlib graph\n",
    "graph = morph_kgc.materialize(config)\n",
    "# work with the graph\n",
    "#graph.serialize(destination='Users/Pedro/Desktop/TBFY_data/TBFY_DATA_DUMP_JSON/5_RDF_TBFY/2019-01-01/ocds-0c46vo-0009-DN379620-1-tender-release.nt', format='nt')"
   ]
  },
  {
   "cell_type": "code",
   "execution_count": 15,
   "metadata": {},
   "outputs": [
    {
     "name": "stderr",
     "output_type": "stream",
     "text": [
      "INFO | 2022-03-07 13:22:07,762 | 38 mapping rules retrieved.\n",
      "INFO | 2022-03-07 13:22:07,776 | Mapping partition with 1 groups generated.\n",
      "INFO | 2022-03-07 13:22:07,777 | Maximum number of rules within mapping group: 38.\n",
      "INFO | 2022-03-07 13:22:07,778 | Mappings processed in 0.286 seconds.\n",
      "INFO | 2022-03-07 13:22:08,113 | Number of triples generated in total: 589.\n"
     ]
    }
   ],
   "source": [
    "import morph_kgc\n",
    "\n",
    "# configuration file\n",
    "config =\"\"\"\n",
    "        [DataSourceXML]\n",
    "        file_path=/Users/Pedro/Desktop/TBFY_data/TBFY_DATA_DUMP_JSON/4_XML_Enriched/2019-01-02/ocds-0c46vo-0001-02f25542-7be1-42f8-a670-873fe39f2cd7-supplier-gb-02183240.xml\n",
    "        mappings=/Users/Pedro/Desktop/knowledge-graph-master/rml-mappings_morph//opencorporates_mapping.ttl\n",
    "        \"\"\"\n",
    "\n",
    "# generate the triples and load them to an RDFlib graph\n",
    "graph = morph_kgc.materialize(config)\n",
    "# work with the graph\n",
    "#graph.serialize(destination='Users/Pedro/Desktop/TBFY_data/TBFY_DATA_DUMP_JSON/5_RDF_TBFY/2019-01-01/ocds-0c46vo-0009-DN379620-1-tender-release.nt', format='nt')"
   ]
  }
 ],
 "metadata": {
  "interpreter": {
   "hash": "ca9afc5d7beaaaf8344e5ecfe08ebe7aa0ece7cde4ebd584e80362ede3feeda4"
  },
  "kernelspec": {
   "display_name": "Python 3.9.5 64-bit",
   "language": "python",
   "name": "python3"
  },
  "language_info": {
   "codemirror_mode": {
    "name": "ipython",
    "version": 3
   },
   "file_extension": ".py",
   "mimetype": "text/x-python",
   "name": "python",
   "nbconvert_exporter": "python",
   "pygments_lexer": "ipython3",
   "version": "3.9.5"
  },
  "orig_nbformat": 4
 },
 "nbformat": 4,
 "nbformat_minor": 2
}
